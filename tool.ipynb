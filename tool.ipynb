{
 "cells": [
  {
   "cell_type": "markdown",
   "metadata": {},
   "source": [
    "sudo apt-get update\n",
    "<!-- Webcam viewer -->\n",
    "sudo apt install cheese\n",
    "\n",
    "sudo apt-get install guvcview\n",
    "\n",
    "sudo apt-get install fswebcam\n"
   ]
  }
 ],
 "metadata": {
  "language_info": {
   "name": "python"
  }
 },
 "nbformat": 4,
 "nbformat_minor": 2
}
